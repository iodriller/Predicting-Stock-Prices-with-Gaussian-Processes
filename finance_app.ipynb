{
 "cells": [
  {
   "cell_type": "code",
   "execution_count": 21,
   "metadata": {
    "ExecuteTime": {
     "end_time": "2020-05-29T09:14:57.894902Z",
     "start_time": "2020-05-29T09:14:57.887931Z"
    }
   },
   "outputs": [],
   "source": [
    "import datetime as dt\n",
    "import numpy as np\n",
    "import pandas as pd\n",
    "from pandas_datareader import data as web\n",
    "from sklearn.gaussian_process.kernels import RBF, ConstantKernel as C, WhiteKernel\n",
    "from sklearn.gaussian_process.kernels import ConstantKernel\n",
    "from sklearn.gaussian_process import GaussianProcessRegressor\n",
    "from sklearn.gaussian_process.kernels import WhiteKernel, ExpSineSquared\n",
    "from sklearn.gaussian_process.kernels import Matern\n",
    "from sklearn import preprocessing\n",
    "\n",
    "import matplotlib\n",
    "import matplotlib.pyplot as plt\n",
    "import matplotlib.dates as mdates\n",
    "%matplotlib inline"
   ]
  },
  {
   "cell_type": "code",
   "execution_count": 22,
   "metadata": {
    "ExecuteTime": {
     "end_time": "2020-05-29T09:14:58.194368Z",
     "start_time": "2020-05-29T09:14:58.189414Z"
    }
   },
   "outputs": [],
   "source": [
    "start_time = pd.to_datetime(\"2008, 1, 1\", infer_datetime_format=True, format='%Y-%m-%d %H:%M:%S')\n",
    "end_time = pd.to_datetime(\"2013, 1, 1\", infer_datetime_format=True, format='%Y-%m-%d %H:%M:%S')"
   ]
  },
  {
   "cell_type": "code",
   "execution_count": 23,
   "metadata": {
    "ExecuteTime": {
     "end_time": "2020-05-29T09:14:59.573637Z",
     "start_time": "2020-05-29T09:14:58.605610Z"
    }
   },
   "outputs": [
    {
     "data": {
      "text/html": [
       "<div>\n",
       "<style scoped>\n",
       "    .dataframe tbody tr th:only-of-type {\n",
       "        vertical-align: middle;\n",
       "    }\n",
       "\n",
       "    .dataframe tbody tr th {\n",
       "        vertical-align: top;\n",
       "    }\n",
       "\n",
       "    .dataframe thead th {\n",
       "        text-align: right;\n",
       "    }\n",
       "</style>\n",
       "<table border=\"1\" class=\"dataframe\">\n",
       "  <thead>\n",
       "    <tr style=\"text-align: right;\">\n",
       "      <th></th>\n",
       "      <th>High</th>\n",
       "      <th>Low</th>\n",
       "      <th>Open</th>\n",
       "      <th>Close</th>\n",
       "      <th>Volume</th>\n",
       "      <th>Adj Close</th>\n",
       "    </tr>\n",
       "    <tr>\n",
       "      <th>Date</th>\n",
       "      <th></th>\n",
       "      <th></th>\n",
       "      <th></th>\n",
       "      <th></th>\n",
       "      <th></th>\n",
       "      <th></th>\n",
       "    </tr>\n",
       "  </thead>\n",
       "  <tbody>\n",
       "    <tr>\n",
       "      <th>2008-01-02</th>\n",
       "      <td>94.550003</td>\n",
       "      <td>92.779999</td>\n",
       "      <td>94.150002</td>\n",
       "      <td>93.510002</td>\n",
       "      <td>23351900.0</td>\n",
       "      <td>62.734470</td>\n",
       "    </tr>\n",
       "    <tr>\n",
       "      <th>2008-01-03</th>\n",
       "      <td>94.739998</td>\n",
       "      <td>93.510002</td>\n",
       "      <td>93.860001</td>\n",
       "      <td>93.830002</td>\n",
       "      <td>19160600.0</td>\n",
       "      <td>62.949165</td>\n",
       "    </tr>\n",
       "    <tr>\n",
       "      <th>2008-01-04</th>\n",
       "      <td>94.360001</td>\n",
       "      <td>91.879997</td>\n",
       "      <td>93.239998</td>\n",
       "      <td>92.080002</td>\n",
       "      <td>24730900.0</td>\n",
       "      <td>61.775127</td>\n",
       "    </tr>\n",
       "    <tr>\n",
       "      <th>2008-01-07</th>\n",
       "      <td>93.150002</td>\n",
       "      <td>90.250000</td>\n",
       "      <td>92.500000</td>\n",
       "      <td>91.220001</td>\n",
       "      <td>28937500.0</td>\n",
       "      <td>61.198151</td>\n",
       "    </tr>\n",
       "    <tr>\n",
       "      <th>2008-01-08</th>\n",
       "      <td>92.050003</td>\n",
       "      <td>89.680000</td>\n",
       "      <td>91.860001</td>\n",
       "      <td>90.050003</td>\n",
       "      <td>21764500.0</td>\n",
       "      <td>60.413235</td>\n",
       "    </tr>\n",
       "    <tr>\n",
       "      <th>...</th>\n",
       "      <td>...</td>\n",
       "      <td>...</td>\n",
       "      <td>...</td>\n",
       "      <td>...</td>\n",
       "      <td>...</td>\n",
       "      <td>...</td>\n",
       "    </tr>\n",
       "    <tr>\n",
       "      <th>2012-12-24</th>\n",
       "      <td>87.320000</td>\n",
       "      <td>86.800003</td>\n",
       "      <td>87.129997</td>\n",
       "      <td>86.919998</td>\n",
       "      <td>6385200.0</td>\n",
       "      <td>65.591652</td>\n",
       "    </tr>\n",
       "    <tr>\n",
       "      <th>2012-12-26</th>\n",
       "      <td>87.680000</td>\n",
       "      <td>86.570000</td>\n",
       "      <td>87.209999</td>\n",
       "      <td>87.070000</td>\n",
       "      <td>10737800.0</td>\n",
       "      <td>65.704872</td>\n",
       "    </tr>\n",
       "    <tr>\n",
       "      <th>2012-12-27</th>\n",
       "      <td>87.239998</td>\n",
       "      <td>85.750000</td>\n",
       "      <td>87.050003</td>\n",
       "      <td>86.860001</td>\n",
       "      <td>14258500.0</td>\n",
       "      <td>65.546379</td>\n",
       "    </tr>\n",
       "    <tr>\n",
       "      <th>2012-12-28</th>\n",
       "      <td>86.290001</td>\n",
       "      <td>85.070000</td>\n",
       "      <td>86.099998</td>\n",
       "      <td>85.099998</td>\n",
       "      <td>13358700.0</td>\n",
       "      <td>64.218269</td>\n",
       "    </tr>\n",
       "    <tr>\n",
       "      <th>2012-12-31</th>\n",
       "      <td>86.660004</td>\n",
       "      <td>84.699997</td>\n",
       "      <td>85.040001</td>\n",
       "      <td>86.550003</td>\n",
       "      <td>19810800.0</td>\n",
       "      <td>65.312469</td>\n",
       "    </tr>\n",
       "  </tbody>\n",
       "</table>\n",
       "<p>1259 rows × 6 columns</p>\n",
       "</div>"
      ],
      "text/plain": [
       "                 High        Low       Open      Close      Volume  Adj Close\n",
       "Date                                                                         \n",
       "2008-01-02  94.550003  92.779999  94.150002  93.510002  23351900.0  62.734470\n",
       "2008-01-03  94.739998  93.510002  93.860001  93.830002  19160600.0  62.949165\n",
       "2008-01-04  94.360001  91.879997  93.239998  92.080002  24730900.0  61.775127\n",
       "2008-01-07  93.150002  90.250000  92.500000  91.220001  28937500.0  61.198151\n",
       "2008-01-08  92.050003  89.680000  91.860001  90.050003  21764500.0  60.413235\n",
       "...               ...        ...        ...        ...         ...        ...\n",
       "2012-12-24  87.320000  86.800003  87.129997  86.919998   6385200.0  65.591652\n",
       "2012-12-26  87.680000  86.570000  87.209999  87.070000  10737800.0  65.704872\n",
       "2012-12-27  87.239998  85.750000  87.050003  86.860001  14258500.0  65.546379\n",
       "2012-12-28  86.290001  85.070000  86.099998  85.099998  13358700.0  64.218269\n",
       "2012-12-31  86.660004  84.699997  85.040001  86.550003  19810800.0  65.312469\n",
       "\n",
       "[1259 rows x 6 columns]"
      ]
     },
     "execution_count": 23,
     "metadata": {},
     "output_type": "execute_result"
    }
   ],
   "source": [
    "df = web.DataReader('XOM', 'yahoo', start_time, end_time)\n",
    "df"
   ]
  },
  {
   "cell_type": "code",
   "execution_count": 24,
   "metadata": {
    "ExecuteTime": {
     "end_time": "2020-05-29T09:14:59.587600Z",
     "start_time": "2020-05-29T09:14:59.574610Z"
    },
    "scrolled": true
   },
   "outputs": [
    {
     "data": {
      "text/html": [
       "<div>\n",
       "<style scoped>\n",
       "    .dataframe tbody tr th:only-of-type {\n",
       "        vertical-align: middle;\n",
       "    }\n",
       "\n",
       "    .dataframe tbody tr th {\n",
       "        vertical-align: top;\n",
       "    }\n",
       "\n",
       "    .dataframe thead th {\n",
       "        text-align: right;\n",
       "    }\n",
       "</style>\n",
       "<table border=\"1\" class=\"dataframe\">\n",
       "  <thead>\n",
       "    <tr style=\"text-align: right;\">\n",
       "      <th></th>\n",
       "      <th>High</th>\n",
       "      <th>Low</th>\n",
       "      <th>Open</th>\n",
       "      <th>Close</th>\n",
       "    </tr>\n",
       "  </thead>\n",
       "  <tbody>\n",
       "    <tr>\n",
       "      <th>0</th>\n",
       "      <td>0.959877</td>\n",
       "      <td>0.969729</td>\n",
       "      <td>0.987295</td>\n",
       "      <td>0.972361</td>\n",
       "    </tr>\n",
       "    <tr>\n",
       "      <th>1</th>\n",
       "      <td>0.964733</td>\n",
       "      <td>0.988945</td>\n",
       "      <td>0.979619</td>\n",
       "      <td>0.980785</td>\n",
       "    </tr>\n",
       "    <tr>\n",
       "      <th>2</th>\n",
       "      <td>0.955022</td>\n",
       "      <td>0.946038</td>\n",
       "      <td>0.963208</td>\n",
       "      <td>0.934720</td>\n",
       "    </tr>\n",
       "    <tr>\n",
       "      <th>3</th>\n",
       "      <td>0.924099</td>\n",
       "      <td>0.903132</td>\n",
       "      <td>0.943621</td>\n",
       "      <td>0.912082</td>\n",
       "    </tr>\n",
       "    <tr>\n",
       "      <th>4</th>\n",
       "      <td>0.895988</td>\n",
       "      <td>0.888128</td>\n",
       "      <td>0.926681</td>\n",
       "      <td>0.881285</td>\n",
       "    </tr>\n",
       "    <tr>\n",
       "      <th>...</th>\n",
       "      <td>...</td>\n",
       "      <td>...</td>\n",
       "      <td>...</td>\n",
       "      <td>...</td>\n",
       "    </tr>\n",
       "    <tr>\n",
       "      <th>1254</th>\n",
       "      <td>0.775109</td>\n",
       "      <td>0.812319</td>\n",
       "      <td>0.801482</td>\n",
       "      <td>0.798894</td>\n",
       "    </tr>\n",
       "    <tr>\n",
       "      <th>1255</th>\n",
       "      <td>0.784309</td>\n",
       "      <td>0.806265</td>\n",
       "      <td>0.803600</td>\n",
       "      <td>0.802843</td>\n",
       "    </tr>\n",
       "    <tr>\n",
       "      <th>1256</th>\n",
       "      <td>0.773064</td>\n",
       "      <td>0.784680</td>\n",
       "      <td>0.799365</td>\n",
       "      <td>0.797315</td>\n",
       "    </tr>\n",
       "    <tr>\n",
       "      <th>1257</th>\n",
       "      <td>0.748786</td>\n",
       "      <td>0.766781</td>\n",
       "      <td>0.774219</td>\n",
       "      <td>0.750987</td>\n",
       "    </tr>\n",
       "    <tr>\n",
       "      <th>1258</th>\n",
       "      <td>0.758242</td>\n",
       "      <td>0.757041</td>\n",
       "      <td>0.746162</td>\n",
       "      <td>0.789155</td>\n",
       "    </tr>\n",
       "  </tbody>\n",
       "</table>\n",
       "<p>1259 rows × 4 columns</p>\n",
       "</div>"
      ],
      "text/plain": [
       "          High       Low      Open     Close\n",
       "0     0.959877  0.969729  0.987295  0.972361\n",
       "1     0.964733  0.988945  0.979619  0.980785\n",
       "2     0.955022  0.946038  0.963208  0.934720\n",
       "3     0.924099  0.903132  0.943621  0.912082\n",
       "4     0.895988  0.888128  0.926681  0.881285\n",
       "...        ...       ...       ...       ...\n",
       "1254  0.775109  0.812319  0.801482  0.798894\n",
       "1255  0.784309  0.806265  0.803600  0.802843\n",
       "1256  0.773064  0.784680  0.799365  0.797315\n",
       "1257  0.748786  0.766781  0.774219  0.750987\n",
       "1258  0.758242  0.757041  0.746162  0.789155\n",
       "\n",
       "[1259 rows x 4 columns]"
      ]
     },
     "execution_count": 24,
     "metadata": {},
     "output_type": "execute_result"
    }
   ],
   "source": [
    "scaler_y = preprocessing.MinMaxScaler()\n",
    "df_noindex = df.reset_index(drop=True)\n",
    "columns_=['High', 'Low', 'Open', 'Close']\n",
    "\n",
    "scaler_y.fit(df_noindex[columns_].values)\n",
    "x_scaled = scaler_y.transform(df_noindex[columns_].values)\n",
    "df_normalized = pd.DataFrame(x_scaled, columns=columns_)\n",
    "df_normalized"
   ]
  },
  {
   "cell_type": "code",
   "execution_count": 25,
   "metadata": {
    "ExecuteTime": {
     "end_time": "2020-05-29T09:14:59.599543Z",
     "start_time": "2020-05-29T09:14:59.588576Z"
    }
   },
   "outputs": [
    {
     "data": {
      "text/plain": [
       "array([[0.00000000e+00],\n",
       "       [7.94912560e-04],\n",
       "       [1.58982512e-03],\n",
       "       ...,\n",
       "       [9.98410175e-01],\n",
       "       [9.99205087e-01],\n",
       "       [1.00000000e+00]])"
      ]
     },
     "execution_count": 25,
     "metadata": {},
     "output_type": "execute_result"
    }
   ],
   "source": [
    "high_training = df_normalized['High'].values\n",
    "low_training = df_normalized['Low'].values\n",
    "open_training = df_normalized['Open'].values\n",
    "close_training = df_normalized['Close'].values\n",
    "\n",
    "y_train = np.concatenate((\n",
    "    high_training.reshape(-1, 1),\n",
    "    low_training.reshape(-1, 1),\n",
    "    open_training.reshape(-1, 1),\n",
    "    close_training.reshape(-1, 1),\n",
    "), axis=1)\n",
    "\n",
    "scaler_x = preprocessing.MinMaxScaler()\n",
    "\n",
    "scaler_x.fit(np.array(df_normalized.index).reshape(-1, 1))\n",
    "x_train =  scaler_x.transform(np.array(df_normalized.index).reshape(-1, 1))\n",
    "x_train"
   ]
  },
  {
   "cell_type": "code",
   "execution_count": 30,
   "metadata": {
    "ExecuteTime": {
     "end_time": "2020-05-29T09:17:22.009574Z",
     "start_time": "2020-05-29T09:17:22.005584Z"
    }
   },
   "outputs": [],
   "source": [
    "predict_from = 0\n",
    "predict_to = 1450\n",
    "x_predict = scaler_x.transform(np.arange(predict_from,predict_to,1).reshape(-1, 1))"
   ]
  },
  {
   "cell_type": "code",
   "execution_count": 39,
   "metadata": {
    "ExecuteTime": {
     "end_time": "2020-05-29T09:26:10.163381Z",
     "start_time": "2020-05-29T09:25:26.056629Z"
    }
   },
   "outputs": [
    {
     "name": "stderr",
     "output_type": "stream",
     "text": [
      "C:\\Users\\oe739\\AppData\\Local\\Continuum\\anaconda3\\lib\\site-packages\\sklearn\\gaussian_process\\kernels.py:1444: RuntimeWarning: invalid value encountered in true_divide\n",
      "  / np.sqrt(D.sum(2))[:, :, np.newaxis]\n"
     ]
    },
    {
     "name": "stdout",
     "output_type": "stream",
     "text": [
      "GaussianProcessRegressor(alpha=1e-10, copy_X_train=False,\n",
      "                         kernel=1**2 * Matern(length_scale=1, nu=0.5),\n",
      "                         n_restarts_optimizer=5, normalize_y=True,\n",
      "                         optimizer='fmin_l_bfgs_b', random_state=None)\n"
     ]
    }
   ],
   "source": [
    "kernel4 = 1**2 * RBF() + WhiteKernel(noise_level=0.01)\n",
    "matern = 1**2* Matern(length_scale=1, nu=0.5)\n",
    "gp = GaussianProcessRegressor(kernel=matern, copy_X_train =False, normalize_y=True, n_restarts_optimizer=5)\n",
    "\n",
    "gp.fit(x_train, y_train)\n",
    "print(gp)\n",
    "    \n",
    "y_predict, sigma = gp.predict(x_predict, return_std=True)"
   ]
  },
  {
   "cell_type": "code",
   "execution_count": 40,
   "metadata": {
    "ExecuteTime": {
     "end_time": "2020-05-29T09:26:10.181068Z",
     "start_time": "2020-05-29T09:26:10.165111Z"
    }
   },
   "outputs": [
    {
     "data": {
      "text/html": [
       "<div>\n",
       "<style scoped>\n",
       "    .dataframe tbody tr th:only-of-type {\n",
       "        vertical-align: middle;\n",
       "    }\n",
       "\n",
       "    .dataframe tbody tr th {\n",
       "        vertical-align: top;\n",
       "    }\n",
       "\n",
       "    .dataframe thead th {\n",
       "        text-align: right;\n",
       "    }\n",
       "</style>\n",
       "<table border=\"1\" class=\"dataframe\">\n",
       "  <thead>\n",
       "    <tr style=\"text-align: right;\">\n",
       "      <th></th>\n",
       "      <th>High</th>\n",
       "      <th>Low</th>\n",
       "      <th>Open</th>\n",
       "      <th>Close</th>\n",
       "    </tr>\n",
       "  </thead>\n",
       "  <tbody>\n",
       "    <tr>\n",
       "      <th>0</th>\n",
       "      <td>94.550003</td>\n",
       "      <td>92.779999</td>\n",
       "      <td>94.150001</td>\n",
       "      <td>93.510002</td>\n",
       "    </tr>\n",
       "    <tr>\n",
       "      <th>1</th>\n",
       "      <td>94.739998</td>\n",
       "      <td>93.510002</td>\n",
       "      <td>93.860001</td>\n",
       "      <td>93.830002</td>\n",
       "    </tr>\n",
       "    <tr>\n",
       "      <th>2</th>\n",
       "      <td>94.360001</td>\n",
       "      <td>91.879997</td>\n",
       "      <td>93.239998</td>\n",
       "      <td>92.080002</td>\n",
       "    </tr>\n",
       "    <tr>\n",
       "      <th>3</th>\n",
       "      <td>93.150002</td>\n",
       "      <td>90.250000</td>\n",
       "      <td>92.500000</td>\n",
       "      <td>91.220001</td>\n",
       "    </tr>\n",
       "    <tr>\n",
       "      <th>4</th>\n",
       "      <td>92.050003</td>\n",
       "      <td>89.680000</td>\n",
       "      <td>91.860001</td>\n",
       "      <td>90.050003</td>\n",
       "    </tr>\n",
       "    <tr>\n",
       "      <th>...</th>\n",
       "      <td>...</td>\n",
       "      <td>...</td>\n",
       "      <td>...</td>\n",
       "      <td>...</td>\n",
       "    </tr>\n",
       "    <tr>\n",
       "      <th>1445</th>\n",
       "      <td>79.465619</td>\n",
       "      <td>77.826087</td>\n",
       "      <td>78.513061</td>\n",
       "      <td>78.854002</td>\n",
       "    </tr>\n",
       "    <tr>\n",
       "      <th>1446</th>\n",
       "      <td>79.450337</td>\n",
       "      <td>77.811486</td>\n",
       "      <td>78.499197</td>\n",
       "      <td>78.837655</td>\n",
       "    </tr>\n",
       "    <tr>\n",
       "      <th>1447</th>\n",
       "      <td>79.435188</td>\n",
       "      <td>77.797012</td>\n",
       "      <td>78.485454</td>\n",
       "      <td>78.821450</td>\n",
       "    </tr>\n",
       "    <tr>\n",
       "      <th>1448</th>\n",
       "      <td>79.420170</td>\n",
       "      <td>77.782662</td>\n",
       "      <td>78.471828</td>\n",
       "      <td>78.805384</td>\n",
       "    </tr>\n",
       "    <tr>\n",
       "      <th>1449</th>\n",
       "      <td>79.405281</td>\n",
       "      <td>77.768437</td>\n",
       "      <td>78.458321</td>\n",
       "      <td>78.789457</td>\n",
       "    </tr>\n",
       "  </tbody>\n",
       "</table>\n",
       "<p>1450 rows × 4 columns</p>\n",
       "</div>"
      ],
      "text/plain": [
       "           High        Low       Open      Close\n",
       "0     94.550003  92.779999  94.150001  93.510002\n",
       "1     94.739998  93.510002  93.860001  93.830002\n",
       "2     94.360001  91.879997  93.239998  92.080002\n",
       "3     93.150002  90.250000  92.500000  91.220001\n",
       "4     92.050003  89.680000  91.860001  90.050003\n",
       "...         ...        ...        ...        ...\n",
       "1445  79.465619  77.826087  78.513061  78.854002\n",
       "1446  79.450337  77.811486  78.499197  78.837655\n",
       "1447  79.435188  77.797012  78.485454  78.821450\n",
       "1448  79.420170  77.782662  78.471828  78.805384\n",
       "1449  79.405281  77.768437  78.458321  78.789457\n",
       "\n",
       "[1450 rows x 4 columns]"
      ]
     },
     "execution_count": 40,
     "metadata": {},
     "output_type": "execute_result"
    }
   ],
   "source": [
    "inversed = scaler_y.inverse_transform(y_predict)\n",
    "df_predicted = pd.DataFrame(inversed, columns=columns_)\n",
    "df_predicted"
   ]
  },
  {
   "cell_type": "code",
   "execution_count": 41,
   "metadata": {
    "ExecuteTime": {
     "end_time": "2020-05-29T09:26:10.444408Z",
     "start_time": "2020-05-29T09:26:10.184060Z"
    }
   },
   "outputs": [
    {
     "data": {
      "text/plain": [
       "<matplotlib.collections.PolyCollection at 0x29122eeb648>"
      ]
     },
     "execution_count": 41,
     "metadata": {},
     "output_type": "execute_result"
    },
    {
     "data": {
      "image/png": "[encoded data removed]",
      "text/plain": [
       "<Figure size 1440x720 with 1 Axes>"
      ]
     },
     "metadata": {
      "needs_background": "light"
     },
     "output_type": "display_data"
    }
   ],
   "source": [
    "font = {'family' : 'normal',\n",
    "        'weight' : 'normal',\n",
    "        'size'   : 20}\n",
    "\n",
    "matplotlib.rc('font', **font)\n",
    "\n",
    "\n",
    "host, ax1 = plt.subplots(figsize = (20, 10))\n",
    "ax1.set_xlabel(\"Index\")\n",
    "ax1.plot(df_noindex.index, df_noindex['High'].values, 'black', label = 'hdept, ft', linewidth = 3)\n",
    "ax1.plot(df_predicted.index, df_predicted['High'].values, 'purple', label = 'bdep, ft', linewidth = 3)\n",
    "ax1.set_ylabel('Stock High', fontsize=20)\n",
    "ax1.set_xlabel('Date/Time', fontsize=20)\n",
    "    \n",
    "ax1.fill_between(df_predicted.index, np.ravel(df_predicted['High'].values - 10*sigma)\n",
    "             , np.ravel(df_predicted['High'].values + 10*sigma), alpha=0.05, color='b')\n"
   ]
  },
  {
   "cell_type": "code",
   "execution_count": null,
   "metadata": {},
   "outputs": [],
   "source": []
  },
  {
   "cell_type": "code",
   "execution_count": null,
   "metadata": {},
   "outputs": [],
   "source": []
  }
 ],
 "metadata": {
  "kernelspec": {
   "display_name": "Python 3",
   "language": "python",
   "name": "python3"
  },
  "language_info": {
   "codemirror_mode": {
    "name": "ipython",
    "version": 3
   },
   "file_extension": ".py",
   "mimetype": "text/x-python",
   "name": "python",
   "nbconvert_exporter": "python",
   "pygments_lexer": "ipython3",
   "version": "3.7.6"
  }
 },
 "nbformat": 4,
 "nbformat_minor": 2
}
